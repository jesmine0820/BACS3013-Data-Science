{
  "cells": [
    {
      "cell_type": "markdown",
      "metadata": {
        "id": "view-in-github",
        "colab_type": "text"
      },
      "source": [
        "<a href=\"https://colab.research.google.com/github/jesmine0820/Python/blob/main/1_0_Intro.ipynb\" target=\"_parent\"><img src=\"https://colab.research.google.com/assets/colab-badge.svg\" alt=\"Open In Colab\"/></a>"
      ]
    },
    {
      "cell_type": "markdown",
      "metadata": {
        "id": "kY33yv3Wg888"
      },
      "source": [
        "# 1.0 Introduction to Python\n",
        "\n"
      ]
    },
    {
      "cell_type": "markdown",
      "metadata": {
        "id": "0hCMtLipg88-"
      },
      "source": [
        "\n",
        "\n",
        "### Why Python?\n",
        "\n",
        "1. It’s easy to learn\n",
        "- Now the language of choice for 8 of 10 top US computer science\n",
        "programs (Philip Guo, CACM)\n",
        "2. Full featured\n",
        "- Not just a statistics language, but has full capabilities for data\n",
        "acquisition, cleaning, databases, high performance computing, and more\n",
        "3. Strong Data Science Libraries\n",
        "- Numpy, SciPy, Scikit-learn etc\n",
        "\n",
        "\n",
        "It's important to note that Python isn't the only way that we could teach data science. We can teach data science in R, in Excel, in any number of software packages.  The concepts are more important for you to understand.\n",
        "\n",
        "\n",
        "\n",
        "### Your first program: Print!\n",
        "\n",
        "Python can handle strings of letters that are enclosed in quotation marks like:  \n",
        "\n",
        "`\"I love TAR UC\"` or `'I love Malaysia'`\n",
        "\n",
        "One of the simplest programs is print, which works like the following:"
      ]
    },
    {
      "cell_type": "code",
      "execution_count": null,
      "metadata": {
        "id": "uHEIda96g89A",
        "outputId": "7565a9bb-9a2b-4396-984b-3bff20457b5b",
        "scrolled": false
      },
      "outputs": [
        {
          "data": {
            "text/plain": [
              "'I love TAR UC'"
            ]
          },
          "execution_count": 10,
          "metadata": {
            "tags": []
          },
          "output_type": "execute_result"
        }
      ],
      "source": []
    },
    {
      "cell_type": "markdown",
      "metadata": {
        "id": "oGvETCxGg89I"
      },
      "source": [
        "### print\n",
        "\n",
        "type **print(\"Hello World\")** and observe the difference"
      ]
    },
    {
      "cell_type": "code",
      "execution_count": null,
      "metadata": {
        "colab": {
          "base_uri": "https://localhost:8080/"
        },
        "id": "JyEMKNQPg89J",
        "outputId": "b606343f-f9ae-4841-e671-e5cf8370ead3"
      },
      "outputs": [
        {
          "output_type": "stream",
          "name": "stdout",
          "text": [
            "Jesmine\n"
          ]
        }
      ],
      "source": [
        "print(\"Jesmine\")"
      ]
    },
    {
      "cell_type": "markdown",
      "metadata": {
        "id": "_I8QUrO7g89P"
      },
      "source": [
        "# Arithmetic\n",
        "\n",
        "Python can also handle numbers, and basic arithmetic using the following functions.\n",
        "\n",
        "| Symbol | Task Performed |\n",
        "|----|---|\n",
        "| +  | Addition |\n",
        "| -  | Subtraction |\n",
        "| /  | division |\n",
        "| %  | modulo |\n",
        "| *  | multiplication |\n",
        "| //  | floor division |\n",
        "| **  | to the power of |"
      ]
    },
    {
      "cell_type": "code",
      "execution_count": null,
      "metadata": {
        "id": "ceo3oAfIg89R",
        "outputId": "db950728-4d6c-4fe7-c514-9ebed1878648",
        "scrolled": false
      },
      "outputs": [
        {
          "name": "stdout",
          "output_type": "stream",
          "text": [
            "3\n",
            "15\n",
            "6\n",
            "1\n",
            "4.0\n"
          ]
        }
      ],
      "source": [
        "print(3)\n",
        "print(3*5)\n",
        "print(3+3)\n",
        "print(3-2)\n",
        "print(8/2)"
      ]
    },
    {
      "cell_type": "markdown",
      "metadata": {
        "id": "llEo2mVxg89X"
      },
      "source": [
        "**Type the following and observe the difference**\n",
        "\n",
        "3\n",
        "\n",
        "3*5\n",
        "\n",
        "3+3\n",
        "\n",
        "3-2\n",
        "\n",
        "8/2"
      ]
    },
    {
      "cell_type": "code",
      "execution_count": null,
      "metadata": {
        "colab": {
          "base_uri": "https://localhost:8080/"
        },
        "id": "J8K_VYbMg89Y",
        "outputId": "edaa751b-a35a-40ce-a72a-e3d6c041c1fb"
      },
      "outputs": [
        {
          "output_type": "stream",
          "name": "stdout",
          "text": [
            "3\n",
            "15\n",
            "6\n",
            "1\n",
            "4.0\n"
          ]
        }
      ],
      "source": [
        "print(3)\n",
        "print(3*5)\n",
        "print(3+3)\n",
        "print(3-2)\n",
        "print(8/2)"
      ]
    },
    {
      "cell_type": "markdown",
      "metadata": {
        "id": "H-GXoSmHg89c"
      },
      "source": [
        "### Practice: Basic Arithmetic Exercises"
      ]
    },
    {
      "cell_type": "code",
      "execution_count": null,
      "metadata": {
        "colab": {
          "base_uri": "https://localhost:8080/"
        },
        "id": "-90ezG6Bg89c",
        "outputId": "75fd8b35-3171-4a2b-d582-3ef96c606473",
        "scrolled": true
      },
      "outputs": [
        {
          "output_type": "stream",
          "name": "stdout",
          "text": [
            "7200\n"
          ]
        }
      ],
      "source": [
        "# What is the duration of our 5-day workshop in minutes?\n",
        "print(5*24*60)\n"
      ]
    },
    {
      "cell_type": "markdown",
      "metadata": {
        "id": "GKWbvUO2g89h"
      },
      "source": [
        "### Integers vs. Float\n",
        "\n",
        "For Python 2.x, it interprets 1/2 = 0, while Python 3.x the result will be 0.5\n"
      ]
    },
    {
      "cell_type": "code",
      "execution_count": null,
      "metadata": {
        "colab": {
          "base_uri": "https://localhost:8080/"
        },
        "id": "-WhPiYrZg89i",
        "outputId": "850b1a15-aba0-4569-a040-a3f9797066eb",
        "scrolled": true
      },
      "outputs": [
        {
          "output_type": "stream",
          "name": "stdout",
          "text": [
            "0.5\n"
          ]
        }
      ],
      "source": [
        "print(1/2)"
      ]
    },
    {
      "cell_type": "code",
      "execution_count": null,
      "metadata": {
        "id": "1FQZ6-nYg89l",
        "outputId": "a3998d2f-4b01-4d00-8b2f-173695c1b6e2",
        "scrolled": true
      },
      "outputs": [
        {
          "name": "stdout",
          "output_type": "stream",
          "text": [
            "<class 'int'>\n",
            "<class 'float'>\n",
            "3.3333333333333335\n",
            "1\n",
            "3.3333333333333335\n",
            "3.7142857142857144\n",
            "3.0\n",
            "8\n"
          ]
        }
      ],
      "source": [
        "print((type(10)))\n",
        "print((type(10.)))\n",
        "print((10 / 3))\n",
        "print((10 % 3))\n",
        "print((float(10) / 3)) # Force integers to be float\n",
        "print((13.0 / 3.5)) # You can also change the initial data type.\n",
        "print((13.0 //3.5)) # Floor Division, rounds down the result to the nearest integer\n",
        "print((round(7.5))) # You can round floats up to the neares integer."
      ]
    },
    {
      "cell_type": "markdown",
      "metadata": {
        "id": "_jTuaFmag89q"
      },
      "source": [
        "### Exercise\n",
        "\n",
        "Find **x** in 5x = 3x + 8"
      ]
    },
    {
      "cell_type": "code",
      "execution_count": 2,
      "metadata": {
        "id": "vmzs8n0Jg89r",
        "outputId": "9a0e4bee-f427-4faf-fcb5-50aaeeaf7a92",
        "scrolled": false,
        "colab": {
          "base_uri": "https://localhost:8080/"
        }
      },
      "outputs": [
        {
          "output_type": "stream",
          "name": "stdout",
          "text": [
            "The solution for x is: 4\n"
          ]
        }
      ],
      "source": [
        "import sympy as sp\n",
        "\n",
        "# Define the symbol\n",
        "x = sp.symbols('x')\n",
        "\n",
        "# Define the equation\n",
        "equation = sp.Eq(5*x, 3*x + 8)\n",
        "\n",
        "# Solve the equation\n",
        "solution = sp.solve(equation, x)\n",
        "\n",
        "# Print the solution\n",
        "print(\"The solution for x is:\", solution[0])"
      ]
    },
    {
      "cell_type": "markdown",
      "metadata": {
        "id": "ZPspHxbRg89u"
      },
      "source": [
        "### Try the following:"
      ]
    },
    {
      "cell_type": "code",
      "execution_count": null,
      "metadata": {
        "id": "bVa4LJrZg89v",
        "outputId": "9f0e2efe-f5b4-4901-c28c-89177efdd1ac",
        "scrolled": true
      },
      "outputs": [
        {
          "name": "stdout",
          "output_type": "stream",
          "text": [
            "7.7\n",
            "3.3\n",
            "12.100000000000001\n",
            "2.5\n",
            "2.0\n",
            "42.540042248725975\n",
            "False\n",
            "True\n"
          ]
        }
      ],
      "source": [
        "print(5.5 + 2.2)\n",
        "print(5.5 - 2.2)\n",
        "print(5.5 * 2.2)\n",
        "print(5.5 / 2.2)\n",
        "print(5.5 // 2.2)\n",
        "print(5.5 ** 2.2)\n",
        "print(5.5 < 2.2)\n",
        "print(5.5 != 2.2)"
      ]
    },
    {
      "cell_type": "markdown",
      "metadata": {
        "id": "LQtom9Hbg89z"
      },
      "source": [
        "### Another exercise:\n",
        "\n",
        "Find *x* in -x + -19.4 = 1844.12 + 2x."
      ]
    },
    {
      "cell_type": "code",
      "execution_count": 5,
      "metadata": {
        "id": "YnoZOU4Rg890",
        "outputId": "a2a8fdfc-bb0a-4cdd-89f3-1df6ea43907f",
        "scrolled": true,
        "colab": {
          "base_uri": "https://localhost:8080/"
        }
      },
      "outputs": [
        {
          "output_type": "stream",
          "name": "stdout",
          "text": [
            "The solution for x is: -621.173333333333\n"
          ]
        }
      ],
      "source": [
        "import sympy as sp\n",
        "\n",
        "# Define the symbol\n",
        "x = sp.symbols('x')\n",
        "\n",
        "# Define the equation\n",
        "equation = sp.Eq(-x - 19.4, 1844.12 + 2*x)\n",
        "\n",
        "# Solve the equation\n",
        "solution = sp.solve(equation, x)\n",
        "\n",
        "# Print the solution\n",
        "print(\"The solution for x is:\", solution[0])"
      ]
    },
    {
      "cell_type": "markdown",
      "metadata": {
        "id": "WIR58oWjg894"
      },
      "source": [
        "# Variables"
      ]
    },
    {
      "cell_type": "code",
      "execution_count": null,
      "metadata": {
        "id": "76_DJZbug895",
        "outputId": "2f34b354-a458-462e-db57-6b45dfcf3345",
        "scrolled": false
      },
      "outputs": [
        {
          "name": "stdout",
          "output_type": "stream",
          "text": [
            "-10\n",
            "2.7\n",
            "-7.3\n",
            "<class 'int'>\n",
            "<class 'float'>\n",
            "<class 'float'>\n"
          ]
        }
      ],
      "source": [
        "b = -10\n",
        "c = 2.7\n",
        "\n",
        "print(b)\n",
        "print(c)\n",
        "print((b + c))\n",
        "\n",
        "print((type(b)))\n",
        "print((type(c)))\n",
        "print((type(b+c)))"
      ]
    },
    {
      "cell_type": "code",
      "execution_count": 7,
      "metadata": {
        "id": "WyTRDeHHg897",
        "outputId": "d69151be-7af4-4db1-c4ba-a1353601f179",
        "scrolled": true,
        "colab": {
          "base_uri": "https://localhost:8080/"
        }
      },
      "outputs": [
        {
          "output_type": "stream",
          "name": "stdout",
          "text": [
            "-100000\n",
            "-20.0\n"
          ]
        }
      ],
      "source": [
        "b = -10\n",
        "c = 2.7\n",
        "\n",
        "print(b**5)\n",
        "print(b+c*(b/c))"
      ]
    },
    {
      "cell_type": "markdown",
      "metadata": {
        "id": "hyj-SZKNg89-"
      },
      "source": [
        "### Change the data type"
      ]
    },
    {
      "cell_type": "code",
      "execution_count": 8,
      "metadata": {
        "collapsed": true,
        "id": "ZwrWFK4og89_",
        "colab": {
          "base_uri": "https://localhost:8080/"
        },
        "outputId": "f6d35a79-2e54-4757-d0dc-bf6c6f98d7d1"
      },
      "outputs": [
        {
          "output_type": "stream",
          "name": "stdout",
          "text": [
            "-10.0\n",
            "2\n",
            "<class 'float'>\n",
            "<class 'int'>\n"
          ]
        }
      ],
      "source": [
        "\n",
        "b = float(b)\n",
        "c = int(c)\n",
        "\n",
        "print(b)\n",
        "print(c)\n",
        "\n",
        "print((type(b)))\n",
        "print((type(c)))"
      ]
    },
    {
      "cell_type": "markdown",
      "metadata": {
        "id": "uCrNJXi4g8-F"
      },
      "source": [
        "### Exercise\n",
        "\n",
        "How far does light travel in the time that your computer does one cycle?\n",
        "\n",
        "Assuming that the computer is processing at a frequency of 4GHz."
      ]
    },
    {
      "cell_type": "code",
      "execution_count": 9,
      "metadata": {
        "id": "E2Cp575yg8-G",
        "outputId": "f522dadb-edd0-411b-8a85-961a75ed7cef",
        "colab": {
          "base_uri": "https://localhost:8080/"
        }
      },
      "outputs": [
        {
          "output_type": "stream",
          "name": "stdout",
          "text": [
            "The distance light travels in one cycle at 4 GHz is: 0.07500000000000001 meters\n"
          ]
        }
      ],
      "source": [
        "# Constants\n",
        "speed_of_light = 3 * 10**8  # speed of light in meters per second\n",
        "frequency = 4 * 10**9       # frequency in Hertz (cycles per second)\n",
        "\n",
        "# Calculate the duration of one cycle\n",
        "cycle_duration = 1 / frequency  # in seconds\n",
        "\n",
        "# Calculate the distance light travels in one cycle\n",
        "distance_travelled = speed_of_light * cycle_duration\n",
        "\n",
        "# Print the result\n",
        "print(f\"The distance light travels in one cycle at 4 GHz is: {distance_travelled} meters\")"
      ]
    },
    {
      "cell_type": "markdown",
      "metadata": {
        "id": "x2chsoSkg8-K"
      },
      "source": [
        "### Type the following command\n",
        "\n",
        "%whos"
      ]
    },
    {
      "cell_type": "code",
      "execution_count": 10,
      "metadata": {
        "id": "wzXDR5aYg8-K",
        "outputId": "c3c9f77f-98cc-4d31-fe6e-d244c5907471",
        "scrolled": true,
        "colab": {
          "base_uri": "https://localhost:8080/"
        }
      },
      "outputs": [
        {
          "output_type": "stream",
          "name": "stdout",
          "text": [
            "Variable             Type        Data/Info\n",
            "------------------------------------------\n",
            "b                    float       -10.0\n",
            "c                    int         2\n",
            "cycle_duration       float       2.5e-10\n",
            "distance_travelled   float       0.07500000000000001\n",
            "equation             Equality    Eq(-x - 19.4, 2*x + 1844.12)\n",
            "frequency            int         4000000000\n",
            "solution             list        n=1\n",
            "sp                   module      <module 'sympy' from '/us<...>kages/sympy/__init__.py'>\n",
            "speed_of_light       int         300000000\n",
            "x                    Symbol      x\n"
          ]
        }
      ],
      "source": [
        "%whos"
      ]
    },
    {
      "cell_type": "markdown",
      "metadata": {
        "id": "drk8MLGvg8-O"
      },
      "source": [
        "# Strings"
      ]
    },
    {
      "cell_type": "markdown",
      "metadata": {
        "id": "ZdCK2o59g8-P"
      },
      "source": [
        "Define a variable as your name.  Then print \"I am     ____  from TAR UC\" using your variable."
      ]
    },
    {
      "cell_type": "code",
      "execution_count": 12,
      "metadata": {
        "id": "7iJdkXxhg8-P",
        "outputId": "520fe809-eef3-4cea-9b93-0903e0e60e9c",
        "scrolled": true,
        "colab": {
          "base_uri": "https://localhost:8080/"
        }
      },
      "outputs": [
        {
          "output_type": "stream",
          "name": "stdout",
          "text": [
            "I am Jesmine from TAR UC\n"
          ]
        }
      ],
      "source": [
        "name = 'Jesmine'\n",
        "print('I am ' + name + ' from TAR UC')"
      ]
    },
    {
      "cell_type": "markdown",
      "metadata": {
        "id": "Bbuj2Bhvg8-T"
      },
      "source": [
        "### What will happen?\n",
        "\n",
        "print(\"TAR UC is no \" + 1)"
      ]
    },
    {
      "cell_type": "code",
      "execution_count": 15,
      "metadata": {
        "collapsed": true,
        "id": "8JAX7EvQg8-U",
        "colab": {
          "base_uri": "https://localhost:8080/"
        },
        "outputId": "5031ca3f-45d2-455a-8de1-f31cb198a9b9"
      },
      "outputs": [
        {
          "output_type": "stream",
          "name": "stdout",
          "text": [
            "TAR UC is no 1\n"
          ]
        }
      ],
      "source": [
        "print(\"TAR UC is no \" + \"1\")"
      ]
    },
    {
      "cell_type": "markdown",
      "metadata": {
        "id": "PPRDntyLg8-W"
      },
      "source": [
        "### Slices of String Indices\n",
        "\n",
        "\n",
        "my_uni[i] -- ith item of my_uni, origin 0\n",
        "\n",
        "my_uni[i:j] -- slice of my_uni from i to j\n",
        "\n",
        "my_uni[i:j:k] -- slice of my_uni from i to j with step k\n"
      ]
    },
    {
      "cell_type": "code",
      "execution_count": null,
      "metadata": {
        "id": "pffXI54og8-W",
        "outputId": "6189f339-8894-4f7e-c67f-a46f931ad551",
        "scrolled": false
      },
      "outputs": [
        {
          "name": "stdout",
          "output_type": "stream",
          "text": [
            "T\n",
            "TAR U\n",
            "AR U\n",
            "TAR UC\n"
          ]
        }
      ],
      "source": [
        "my_uni='TAR UC'\n",
        "# print(my_uni(0))\n",
        "print(my_uni[0])\n",
        "print(my_uni[0:5])\n",
        "print(my_uni[1:5])\n",
        "print(my_uni[0:6])"
      ]
    },
    {
      "cell_type": "markdown",
      "metadata": {
        "id": "DyqVXTp4g8-a"
      },
      "source": [
        "### Useful string slicing\n",
        "\n",
        "len(my_uni) -- length of my_uni\n",
        "\n",
        "my_uni.index('c') -- index of the first occurrence of **c** in my_uni\n",
        "\n",
        "my_uni.find('other') -- searches for the given other string (not a regular expression) within my_uni, and returns the first\n",
        "index where it begins or -1 if not found"
      ]
    },
    {
      "cell_type": "code",
      "execution_count": 21,
      "metadata": {
        "id": "QUJSymnig8-b",
        "outputId": "94276e23-f3ac-4c83-b37a-672911bf0cde",
        "scrolled": true,
        "colab": {
          "base_uri": "https://localhost:8080/"
        }
      },
      "outputs": [
        {
          "output_type": "stream",
          "name": "stdout",
          "text": [
            "5\n",
            "4\n"
          ]
        }
      ],
      "source": [
        "my_uni='TAR UC'\n",
        "\n",
        "print(my_uni.index('C'))\n",
        "print(my_uni.find('UC'))"
      ]
    },
    {
      "cell_type": "code",
      "execution_count": 17,
      "metadata": {
        "id": "sPaha7WXg8-d",
        "outputId": "d79f0579-2375-40dc-fb82-224acdc4553d",
        "scrolled": true,
        "colab": {
          "base_uri": "https://localhost:8080/"
        }
      },
      "outputs": [
        {
          "output_type": "stream",
          "name": "stdout",
          "text": [
            "Ms. Lim Mei Shyan\n"
          ]
        }
      ],
      "source": [
        "dean = 'Ms. Lim Mei Shyan is the dean of FOCS'\n",
        "\n",
        "print(dean[dean.find('Ms'):dean.find(' is')])"
      ]
    },
    {
      "cell_type": "markdown",
      "metadata": {
        "id": "w-kZqiQ3g8-h"
      },
      "source": [
        "### HELP ME PLEASE\n",
        "\n",
        "just type **help(\"str.find\")**"
      ]
    },
    {
      "cell_type": "code",
      "execution_count": 18,
      "metadata": {
        "id": "ecsqiB_1g8-i",
        "outputId": "a88f77f8-1741-4311-978f-c9ca42e8ccad",
        "scrolled": true,
        "colab": {
          "base_uri": "https://localhost:8080/"
        }
      },
      "outputs": [
        {
          "output_type": "stream",
          "name": "stdout",
          "text": [
            "Help on method_descriptor in str:\n",
            "\n",
            "str.find = find(...)\n",
            "    S.find(sub[, start[, end]]) -> int\n",
            "    \n",
            "    Return the lowest index in S where substring sub is found,\n",
            "    such that sub is contained within S[start:end].  Optional\n",
            "    arguments start and end are interpreted as in slice notation.\n",
            "    \n",
            "    Return -1 on failure.\n",
            "\n"
          ]
        }
      ],
      "source": [
        "help(\"str.find\")"
      ]
    },
    {
      "cell_type": "markdown",
      "metadata": {
        "id": "y4skPW7fg8-q"
      },
      "source": [
        "### Common built- in methods\n",
        "min(s) -- smallest item of s\n",
        "\n",
        "max(s) -- largest item of s\n",
        "\n",
        "s.count(x) -- total number of occurrences of x in s\n",
        "\n",
        "s.lower(), s.upper() -- returns the lowercase or uppercase version of the string\n",
        "\n",
        "s.strip() -- returns a string with whitespace removed from the start and end\n",
        "\n",
        "s.isalpha()/s.isdigit()/s.isspace()... -- tests if all the string chars are in the various character classes\n",
        "\n",
        "s.startswith('other'), s.endswith('other') -- tests if the string starts or ends with the given other string\n",
        "\n",
        "s.replace('old', 'new') -- returns a string where all occurrences of 'old' have been replaced by 'new'\n",
        "\n",
        "s.split('delim') -- returns a list of substrings separated by the given delimiter. The delimiter is not a regular expression, it's just text. 'aaa,bbb,ccc'.split(',') -> ['aaa', 'bbb', 'ccc']. As a convenient special case s.split() (with no arguments) splits on all whitespace chars.\n",
        "\n",
        "s.join(list) -- opposite of split(), joins the elements in the given list together using the string as the delimiter. e.g. '---'.join(['aaa', 'bbb', 'ccc']) -> aaa---bbb---ccc"
      ]
    },
    {
      "cell_type": "markdown",
      "metadata": {
        "id": "rd3lMOy3g8-r"
      },
      "source": [
        "### Exercise\n",
        "\n",
        "print *Ms. Chok Len Mooi is the deputy dean of FOCS* in uppercase"
      ]
    },
    {
      "cell_type": "code",
      "execution_count": 20,
      "metadata": {
        "id": "S3Ald9MUg8-r",
        "outputId": "e811935b-50f3-4951-9bba-ddd2e51bc4a7",
        "colab": {
          "base_uri": "https://localhost:8080/"
        }
      },
      "outputs": [
        {
          "output_type": "stream",
          "name": "stdout",
          "text": [
            "MS. CHOK LEN MOOI IS THE DEPUTY DEAN OF FOCS.\n"
          ]
        }
      ],
      "source": [
        "s = \"Ms. Chok Len Mooi is the deputy dean of FOCS.\"\n",
        "print(s.upper())"
      ]
    },
    {
      "cell_type": "markdown",
      "metadata": {
        "id": "KnfTdYR8g8-v"
      },
      "source": [
        "### Format\n",
        "\n",
        "The % operator takes a printf-type format string on the left (%d int, %s string, %f/%g floating point), and the matching values in a tuple on the right (a tuple is made of values separated by commas, typically grouped inside parenthesis)."
      ]
    },
    {
      "cell_type": "code",
      "execution_count": null,
      "metadata": {
        "id": "qvCUZsdog8-v",
        "outputId": "6e953f1a-a574-4251-bd7c-c5be0bd0db1e",
        "scrolled": true
      },
      "outputs": [
        {
          "name": "stdout",
          "output_type": "stream",
          "text": [
            "My name is YU. I am working at Tar UC as a Senior Lecturer. I have been with this company for 1 years.\n",
            "My name is YU. I am working at Tar UC as a Senior Lecturer. I have been with this company for 1 years.\n"
          ]
        }
      ],
      "source": [
        "print('My name is %s. I am working at %s as a %s. \\\n",
        "I have been with this company for %d years.'%('YU','Tar UC', 'Senior Lecturer', 1))\n",
        "\n",
        "print('My name is {}. I am working at {} as a {}. \\\n",
        "I have been with this company for {} years.'.format('YU','Tar UC', 'Senior Lecturer', 1))"
      ]
    },
    {
      "cell_type": "markdown",
      "metadata": {
        "id": "3aH0wU3Jg8-z"
      },
      "source": [
        "# Function"
      ]
    },
    {
      "cell_type": "code",
      "execution_count": 22,
      "metadata": {
        "id": "h4EEk1tAg8-z"
      },
      "outputs": [],
      "source": [
        "def maths_is_beautiful( x , y ):\n",
        "    \"This is my first function. Please take note that indent is important!\"\n",
        "\n",
        "    return x + y"
      ]
    },
    {
      "cell_type": "code",
      "execution_count": 23,
      "metadata": {
        "id": "aU1NlxU1g8-2",
        "outputId": "f34681b0-2ffe-42ed-efbc-e3063af75735",
        "colab": {
          "base_uri": "https://localhost:8080/"
        }
      },
      "outputs": [
        {
          "output_type": "execute_result",
          "data": {
            "text/plain": [
              "13"
            ]
          },
          "metadata": {},
          "execution_count": 23
        }
      ],
      "source": [
        "maths_is_beautiful(5,8)"
      ]
    },
    {
      "cell_type": "markdown",
      "metadata": {
        "id": "DY-ejW_jg8-4"
      },
      "source": [
        "### Thinking Corner\n",
        "Oops, \"This is my first function. Please take note that indent is important!\" was not returned?!"
      ]
    },
    {
      "cell_type": "code",
      "execution_count": null,
      "metadata": {
        "collapsed": true,
        "id": "x6ZHWcr7g8-5"
      },
      "outputs": [],
      "source": []
    },
    {
      "cell_type": "code",
      "execution_count": 24,
      "metadata": {
        "id": "HLuZKajog8-_",
        "outputId": "1443d32a-3d60-4007-e8a1-652adbc4ba5a",
        "scrolled": true,
        "colab": {
          "base_uri": "https://localhost:8080/"
        }
      },
      "outputs": [
        {
          "output_type": "stream",
          "name": "stdout",
          "text": [
            "This is my first function. Please take note that indent is important!\n",
            "16\n"
          ]
        }
      ],
      "source": [
        "def maths_is_beautiful(x, y):\n",
        "    \"\"\"\n",
        "    This is my first function. Please take note that indent is important!\n",
        "    \"\"\"\n",
        "    result = x + y\n",
        "    return f\"This is my first function. Please take note that indent is important!\\n{result}\"\n",
        "\n",
        "sentence = maths_is_beautiful(7,9)\n",
        "print(sentence)"
      ]
    },
    {
      "cell_type": "markdown",
      "source": [],
      "metadata": {
        "id": "IOUlKZ-wZVyp"
      }
    },
    {
      "cell_type": "markdown",
      "metadata": {
        "id": "w_E4Rfrng8_B"
      },
      "source": [
        "### Exercise\n",
        "\n",
        "Write a function to find the square root of a number"
      ]
    },
    {
      "cell_type": "code",
      "execution_count": null,
      "metadata": {
        "id": "cHERqKHXg8_B",
        "outputId": "2788be54-cede-4304-a0bb-cab70186b5e4",
        "scrolled": true
      },
      "outputs": [
        {
          "name": "stdout",
          "output_type": "stream",
          "text": [
            "10.0\n"
          ]
        }
      ],
      "source": [
        "import math\n",
        "a= 100\n",
        "print (math.sqrt(a))"
      ]
    },
    {
      "cell_type": "code",
      "execution_count": 27,
      "metadata": {
        "id": "zp1ouS7Mg8_H",
        "outputId": "9c6e5e78-54b2-4d9c-9b06-d9267a26a4b8",
        "scrolled": true,
        "colab": {
          "base_uri": "https://localhost:8080/"
        }
      },
      "outputs": [
        {
          "output_type": "stream",
          "name": "stdout",
          "text": [
            "10.0\n"
          ]
        }
      ],
      "source": [
        "import math\n",
        "\n",
        "def squareroot(num):\n",
        "    return math.sqrt(num)\n",
        "\n",
        "a=100\n",
        "print (squareroot(a))"
      ]
    },
    {
      "cell_type": "markdown",
      "metadata": {
        "id": "L_9chMHfg8_J"
      },
      "source": [
        "### Logic"
      ]
    },
    {
      "cell_type": "code",
      "execution_count": null,
      "metadata": {
        "id": "YEfoiCv_g8_K",
        "outputId": "cfd89aa1-a528-4fd4-83a6-8e452147271f",
        "scrolled": true
      },
      "outputs": [
        {
          "name": "stdout",
          "output_type": "stream",
          "text": [
            "True\n",
            "False\n",
            "True\n",
            "False\n",
            "True\n",
            "False\n",
            "True\n",
            "False\n"
          ]
        },
        {
          "name": "stderr",
          "output_type": "stream",
          "text": [
            "<>:3: SyntaxWarning: \"is\" with a literal. Did you mean \"==\"?\n",
            "<>:3: SyntaxWarning: \"is\" with a literal. Did you mean \"==\"?\n",
            "<ipython-input-7-56adce85b2e3>:3: SyntaxWarning: \"is\" with a literal. Did you mean \"==\"?\n",
            "  print((2 is 2))\n"
          ]
        }
      ],
      "source": [
        "print((5 > 2))\n",
        "print((2 > 5))\n",
        "print((2 is 2))\n",
        "print((2 == 3))\n",
        "print((5 > 2 or 2 > 1))\n",
        "print((5 > 2 and 2 > 2))\n",
        "print(('s' in 'datascience'))\n",
        "print(('x' in 'datascience'))"
      ]
    },
    {
      "cell_type": "markdown",
      "metadata": {
        "id": "Yn3wO5jSg8_M"
      },
      "source": [
        "### if-else condition\n"
      ]
    },
    {
      "cell_type": "code",
      "execution_count": 28,
      "metadata": {
        "id": "lgTQV9vTg8_N",
        "outputId": "9d0e9eb6-4a4b-41fa-9e2a-28adbaaccfe6",
        "colab": {
          "base_uri": "https://localhost:8080/"
        }
      },
      "outputs": [
        {
          "output_type": "stream",
          "name": "stdout",
          "text": [
            "5\n",
            "6\n",
            "0\n"
          ]
        }
      ],
      "source": [
        "\n",
        "\n",
        "def which_is_bigger(a,b):\n",
        "    if a > b:\n",
        "        return a\n",
        "    elif a < b:\n",
        "        return b\n",
        "    else:\n",
        "        return 0\n",
        "\n",
        "print(which_is_bigger (5,3))\n",
        "print(which_is_bigger (3,6))\n",
        "print(which_is_bigger (3,3))"
      ]
    },
    {
      "cell_type": "markdown",
      "metadata": {
        "id": "8WmvPojUg8_Q"
      },
      "source": [
        "### while condition"
      ]
    },
    {
      "cell_type": "code",
      "execution_count": 29,
      "metadata": {
        "id": "d2RI5-Wcg8_R",
        "outputId": "fbe2b82e-dee7-4f51-ca8d-b9b1bdcbb545",
        "scrolled": true,
        "colab": {
          "base_uri": "https://localhost:8080/"
        }
      },
      "outputs": [
        {
          "output_type": "stream",
          "name": "stdout",
          "text": [
            "The population of China relative to Malaysia is about: 46.551724\n",
            "The population of India relative to Malaysia is about: 41.724138\n",
            "The population of United States relative to Malaysia is about: 10.655172\n",
            "The population of Malaysia relative to Malaysia is about: 1.000000\n"
          ]
        }
      ],
      "source": [
        "\n",
        "countries = [['China','Beijing', 1350],\n",
        "             ['India','Delhi',1210],\n",
        "             ['United States','Washington DC', 309],\n",
        "             ['Malaysia','Kuala Lumpur',29]]\n",
        "\n",
        "# How many times bigger is the population of\n",
        "# China, India, and the US relative to Malaysia?\n",
        "\n",
        "number_of_list = len(countries)\n",
        "index = 0\n",
        "while (index <number_of_list):\n",
        "    ratio = countries[index][2]/countries[3][2]\n",
        "    print('The population of %s relative to %s is about: %f'%(countries[index][0],countries[3][0],ratio))\n",
        "    index = index + 1\n"
      ]
    },
    {
      "cell_type": "markdown",
      "metadata": {
        "id": "EJ1IorJAg8_T"
      },
      "source": [
        "### List Methods\n",
        "\n",
        "- list.append(elem) -- adds a single element to the end of the list. Common error: does not return the new list, just modifies the original.\n",
        "- list.insert(index, elem) -- inserts the element at the given index, shifting elements to the right.\n",
        "- list.extend(list2) adds the elements in list2 to the end of the list. Using + or += on a list is similar to using extend().\n",
        "- list.index(elem) -- searches for the given element from the start of the list and returns its index. Throws a ValueError if the element does not appear (use \"in\" to check without a ValueError).\n",
        "- list.remove(elem) -- searches for the first instance of the given element and removes it (throws ValueError if not present)\n",
        "- list.sort() -- sorts the list in place (does not return it).\n",
        "- sorted(list) -- return sorted list but keeps the original order of the list\n",
        "- list.reverse() -- reverses the list in place (does not return it)\n",
        "- list.pop(index) -- removes and returns the element at the given index. Returns the rightmost element if index is omitted (roughly the opposite of append())."
      ]
    },
    {
      "cell_type": "markdown",
      "metadata": {
        "id": "_Pn8K8U6g8_T"
      },
      "source": [
        "#### Example"
      ]
    },
    {
      "cell_type": "code",
      "execution_count": null,
      "metadata": {
        "id": "N8x7Kt75g8_U",
        "outputId": "aa54c7a7-3bdb-48a3-fc9a-43bbf2db841b"
      },
      "outputs": [
        {
          "data": {
            "text/plain": [
              "['red', 'green', 'blue', 'purple']"
            ]
          },
          "execution_count": 74,
          "metadata": {
            "tags": []
          },
          "output_type": "execute_result"
        }
      ],
      "source": [
        "colors = ['red', 'green', 'blue']\n",
        "colors.append('purple')\n",
        "colors"
      ]
    },
    {
      "cell_type": "markdown",
      "metadata": {
        "id": "GW2pHPwlg8_Y"
      },
      "source": [
        "### List Slicing\n",
        "\n",
        "it is similar to R. Be reminded that for python, the index always starts from zero.\n"
      ]
    },
    {
      "cell_type": "code",
      "execution_count": 31,
      "metadata": {
        "id": "jiP7a-Nrg8_Z",
        "outputId": "6aa2ccfc-22a6-4793-cbe3-f2955b3c7768",
        "colab": {
          "base_uri": "https://localhost:8080/"
        }
      },
      "outputs": [
        {
          "output_type": "stream",
          "name": "stdout",
          "text": [
            "red\n",
            "e\n"
          ]
        }
      ],
      "source": [
        "colors = ['red', 'green', 'blue']\n",
        "print(colors[0])\n",
        "print(colors[0][1])"
      ]
    },
    {
      "cell_type": "markdown",
      "metadata": {
        "id": "UhFw2CTig8_e"
      },
      "source": [
        "### for loop"
      ]
    },
    {
      "cell_type": "code",
      "execution_count": 32,
      "metadata": {
        "id": "XjnhjAYTg8_f",
        "outputId": "334baeda-c8b8-45a0-cc6a-fcf9928ec747",
        "colab": {
          "base_uri": "https://localhost:8080/"
        }
      },
      "outputs": [
        {
          "output_type": "stream",
          "name": "stdout",
          "text": [
            "216\n"
          ]
        }
      ],
      "source": [
        "# Define sum_list.\n",
        "\n",
        "def sum_list(your_list):\n",
        "\n",
        "\n",
        "    totalvalue = 0\n",
        "\n",
        "    for value in your_list:\n",
        "\n",
        "        totalvalue = totalvalue + value\n",
        "\n",
        "    return totalvalue\n",
        "\n",
        "mark_list = [69,58,89]\n",
        "print(sum_list(mark_list))"
      ]
    },
    {
      "cell_type": "markdown",
      "metadata": {
        "id": "QieyMTJvg8_o"
      },
      "source": [
        "### List Comprehensions\n",
        "\n",
        "Quite similar to lappy function in R"
      ]
    },
    {
      "cell_type": "code",
      "execution_count": 33,
      "metadata": {
        "id": "hafro6mUg8_o",
        "outputId": "d807a26d-e9a0-4631-aa50-298a211bc866",
        "colab": {
          "base_uri": "https://localhost:8080/"
        }
      },
      "outputs": [
        {
          "output_type": "stream",
          "name": "stdout",
          "text": [
            "[1, 4, 9, 16, 25, 36, 49, 64]\n"
          ]
        }
      ],
      "source": [
        "numbers = [1, 2, 3, 4, 5, 6, 7, 8]\n",
        "squares = [n*n for n in numbers]\n",
        "\n",
        "print(squares)"
      ]
    }
  ],
  "metadata": {
    "colab": {
      "provenance": [],
      "include_colab_link": true
    },
    "kernelspec": {
      "display_name": "Python 3",
      "language": "python",
      "name": "python3"
    },
    "language_info": {
      "codemirror_mode": {
        "name": "ipython",
        "version": 3
      },
      "file_extension": ".py",
      "mimetype": "text/x-python",
      "name": "python",
      "nbconvert_exporter": "python",
      "pygments_lexer": "ipython3",
      "version": "3.8.8"
    }
  },
  "nbformat": 4,
  "nbformat_minor": 0
}